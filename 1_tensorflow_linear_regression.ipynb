{
 "cells": [
  {
   "cell_type": "markdown",
   "metadata": {},
   "source": [
    "# Tensorflow实例1:线性回归"
   ]
  },
  {
   "cell_type": "markdown",
   "metadata": {},
   "source": [
    "## 前言"
   ]
  },
  {
   "cell_type": "markdown",
   "metadata": {},
   "source": [
    "我们之前已经介绍了不少deep learning相关的内容[见这里]()，以及目前在生物领域的相关应用的综述[见这里]()，so，我们的关注点近来就转向了deep learning为主，并决定开始扎扎实实和大家一起共同学习这个。综合考虑技术普适性和可靠性，我们选定了Tensoflow作为技术学习框架（[Tensorflow的安装教程]()）,学习方式则是从实例出发，辅以相应的注释当作说明，例如从简单的线性回归开始，即本章，然后逐渐加入deep learning内容相关以及tensorflow特性相关的内容。整个项目可见：https://github.com/NGSHotpot/tensorflow_learning_examples"
   ]
  }
 ],
 "metadata": {
  "kernelspec": {
   "display_name": "Python 2",
   "language": "python",
   "name": "python2"
  },
  "language_info": {
   "codemirror_mode": {
    "name": "ipython",
    "version": 2
   },
   "file_extension": ".py",
   "mimetype": "text/x-python",
   "name": "python",
   "nbconvert_exporter": "python",
   "pygments_lexer": "ipython2",
   "version": "2.7.10"
  }
 },
 "nbformat": 4,
 "nbformat_minor": 2
}
